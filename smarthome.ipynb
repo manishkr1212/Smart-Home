{
 "cells": [
  {
   "cell_type": "code",
   "execution_count": 255,
   "id": "7ba5e7f8-2131-494f-8cf7-0b9aff33fcd4",
   "metadata": {},
   "outputs": [],
   "source": [
    "import  pandas as pd\n",
    "import numpy as np\n",
    "import matplotlib.pyplot as plt\n",
    "import seaborn as sns\n",
    "import warnings\n",
    "warnings.filterwarnings(\"ignore\")"
   ]
  },
  {
   "cell_type": "code",
   "execution_count": 395,
   "id": "e16a6c02-779b-42cb-93b9-fe3400bd1ce1",
   "metadata": {},
   "outputs": [
    {
     "data": {
      "text/html": [
       "<div>\n",
       "<style scoped>\n",
       "    .dataframe tbody tr th:only-of-type {\n",
       "        vertical-align: middle;\n",
       "    }\n",
       "\n",
       "    .dataframe tbody tr th {\n",
       "        vertical-align: top;\n",
       "    }\n",
       "\n",
       "    .dataframe thead th {\n",
       "        text-align: right;\n",
       "    }\n",
       "</style>\n",
       "<table border=\"1\" class=\"dataframe\">\n",
       "  <thead>\n",
       "    <tr style=\"text-align: right;\">\n",
       "      <th></th>\n",
       "      <th>Unix Timestamp</th>\n",
       "      <th>Transaction_ID</th>\n",
       "      <th>Television</th>\n",
       "      <th>Dryer</th>\n",
       "      <th>Oven</th>\n",
       "      <th>Refrigerator</th>\n",
       "      <th>Microwave</th>\n",
       "      <th>Line Voltage</th>\n",
       "      <th>Voltage</th>\n",
       "      <th>Apparent Power</th>\n",
       "      <th>Energy Consumption (kWh)</th>\n",
       "      <th>Offloading Decision</th>\n",
       "      <th>Bandwidth</th>\n",
       "    </tr>\n",
       "  </thead>\n",
       "  <tbody>\n",
       "    <tr>\n",
       "      <th>0</th>\n",
       "      <td>1577836800</td>\n",
       "      <td>1</td>\n",
       "      <td>0</td>\n",
       "      <td>0</td>\n",
       "      <td>0</td>\n",
       "      <td>1</td>\n",
       "      <td>0</td>\n",
       "      <td>237</td>\n",
       "      <td>233</td>\n",
       "      <td>1559</td>\n",
       "      <td>24.001763</td>\n",
       "      <td>0</td>\n",
       "      <td>30741</td>\n",
       "    </tr>\n",
       "    <tr>\n",
       "      <th>1</th>\n",
       "      <td>1577839322</td>\n",
       "      <td>2</td>\n",
       "      <td>0</td>\n",
       "      <td>1</td>\n",
       "      <td>0</td>\n",
       "      <td>0</td>\n",
       "      <td>1</td>\n",
       "      <td>232</td>\n",
       "      <td>230</td>\n",
       "      <td>1970</td>\n",
       "      <td>31.225154</td>\n",
       "      <td>1</td>\n",
       "      <td>35070</td>\n",
       "    </tr>\n",
       "    <tr>\n",
       "      <th>2</th>\n",
       "      <td>1577841845</td>\n",
       "      <td>3</td>\n",
       "      <td>0</td>\n",
       "      <td>1</td>\n",
       "      <td>0</td>\n",
       "      <td>0</td>\n",
       "      <td>0</td>\n",
       "      <td>223</td>\n",
       "      <td>222</td>\n",
       "      <td>1684</td>\n",
       "      <td>70.460700</td>\n",
       "      <td>1</td>\n",
       "      <td>44253</td>\n",
       "    </tr>\n",
       "    <tr>\n",
       "      <th>3</th>\n",
       "      <td>1577844368</td>\n",
       "      <td>4</td>\n",
       "      <td>1</td>\n",
       "      <td>0</td>\n",
       "      <td>1</td>\n",
       "      <td>1</td>\n",
       "      <td>0</td>\n",
       "      <td>225</td>\n",
       "      <td>224</td>\n",
       "      <td>1694</td>\n",
       "      <td>32.264043</td>\n",
       "      <td>1</td>\n",
       "      <td>20911</td>\n",
       "    </tr>\n",
       "    <tr>\n",
       "      <th>4</th>\n",
       "      <td>1577846891</td>\n",
       "      <td>5</td>\n",
       "      <td>1</td>\n",
       "      <td>0</td>\n",
       "      <td>0</td>\n",
       "      <td>1</td>\n",
       "      <td>0</td>\n",
       "      <td>222</td>\n",
       "      <td>214</td>\n",
       "      <td>1889</td>\n",
       "      <td>32.728111</td>\n",
       "      <td>0</td>\n",
       "      <td>1708</td>\n",
       "    </tr>\n",
       "    <tr>\n",
       "      <th>...</th>\n",
       "      <td>...</td>\n",
       "      <td>...</td>\n",
       "      <td>...</td>\n",
       "      <td>...</td>\n",
       "      <td>...</td>\n",
       "      <td>...</td>\n",
       "      <td>...</td>\n",
       "      <td>...</td>\n",
       "      <td>...</td>\n",
       "      <td>...</td>\n",
       "      <td>...</td>\n",
       "      <td>...</td>\n",
       "      <td>...</td>\n",
       "    </tr>\n",
       "    <tr>\n",
       "      <th>48967</th>\n",
       "      <td>1701377135</td>\n",
       "      <td>48968</td>\n",
       "      <td>1</td>\n",
       "      <td>0</td>\n",
       "      <td>1</td>\n",
       "      <td>0</td>\n",
       "      <td>0</td>\n",
       "      <td>234</td>\n",
       "      <td>230</td>\n",
       "      <td>1815</td>\n",
       "      <td>20.161006</td>\n",
       "      <td>1</td>\n",
       "      <td>22742</td>\n",
       "    </tr>\n",
       "    <tr>\n",
       "      <th>48968</th>\n",
       "      <td>1701379658</td>\n",
       "      <td>48969</td>\n",
       "      <td>0</td>\n",
       "      <td>0</td>\n",
       "      <td>1</td>\n",
       "      <td>0</td>\n",
       "      <td>1</td>\n",
       "      <td>238</td>\n",
       "      <td>235</td>\n",
       "      <td>1692</td>\n",
       "      <td>91.965343</td>\n",
       "      <td>0</td>\n",
       "      <td>22466</td>\n",
       "    </tr>\n",
       "    <tr>\n",
       "      <th>48969</th>\n",
       "      <td>1701382181</td>\n",
       "      <td>48970</td>\n",
       "      <td>1</td>\n",
       "      <td>0</td>\n",
       "      <td>0</td>\n",
       "      <td>1</td>\n",
       "      <td>1</td>\n",
       "      <td>235</td>\n",
       "      <td>229</td>\n",
       "      <td>1686</td>\n",
       "      <td>40.224097</td>\n",
       "      <td>0</td>\n",
       "      <td>10004</td>\n",
       "    </tr>\n",
       "    <tr>\n",
       "      <th>48970</th>\n",
       "      <td>1701384704</td>\n",
       "      <td>48971</td>\n",
       "      <td>1</td>\n",
       "      <td>1</td>\n",
       "      <td>1</td>\n",
       "      <td>1</td>\n",
       "      <td>1</td>\n",
       "      <td>237</td>\n",
       "      <td>230</td>\n",
       "      <td>1754</td>\n",
       "      <td>37.366360</td>\n",
       "      <td>0</td>\n",
       "      <td>48012</td>\n",
       "    </tr>\n",
       "    <tr>\n",
       "      <th>48971</th>\n",
       "      <td>1701387227</td>\n",
       "      <td>48972</td>\n",
       "      <td>0</td>\n",
       "      <td>0</td>\n",
       "      <td>0</td>\n",
       "      <td>0</td>\n",
       "      <td>1</td>\n",
       "      <td>220</td>\n",
       "      <td>215</td>\n",
       "      <td>1660</td>\n",
       "      <td>66.239065</td>\n",
       "      <td>0</td>\n",
       "      <td>4712</td>\n",
       "    </tr>\n",
       "  </tbody>\n",
       "</table>\n",
       "<p>48972 rows × 13 columns</p>\n",
       "</div>"
      ],
      "text/plain": [
       "       Unix Timestamp  Transaction_ID  Television  Dryer  Oven  Refrigerator  \\\n",
       "0          1577836800               1           0      0     0             1   \n",
       "1          1577839322               2           0      1     0             0   \n",
       "2          1577841845               3           0      1     0             0   \n",
       "3          1577844368               4           1      0     1             1   \n",
       "4          1577846891               5           1      0     0             1   \n",
       "...               ...             ...         ...    ...   ...           ...   \n",
       "48967      1701377135           48968           1      0     1             0   \n",
       "48968      1701379658           48969           0      0     1             0   \n",
       "48969      1701382181           48970           1      0     0             1   \n",
       "48970      1701384704           48971           1      1     1             1   \n",
       "48971      1701387227           48972           0      0     0             0   \n",
       "\n",
       "       Microwave  Line Voltage  Voltage  Apparent Power  \\\n",
       "0              0           237      233            1559   \n",
       "1              1           232      230            1970   \n",
       "2              0           223      222            1684   \n",
       "3              0           225      224            1694   \n",
       "4              0           222      214            1889   \n",
       "...          ...           ...      ...             ...   \n",
       "48967          0           234      230            1815   \n",
       "48968          1           238      235            1692   \n",
       "48969          1           235      229            1686   \n",
       "48970          1           237      230            1754   \n",
       "48971          1           220      215            1660   \n",
       "\n",
       "       Energy Consumption (kWh)  Offloading Decision  Bandwidth  \n",
       "0                     24.001763                    0      30741  \n",
       "1                     31.225154                    1      35070  \n",
       "2                     70.460700                    1      44253  \n",
       "3                     32.264043                    1      20911  \n",
       "4                     32.728111                    0       1708  \n",
       "...                         ...                  ...        ...  \n",
       "48967                 20.161006                    1      22742  \n",
       "48968                 91.965343                    0      22466  \n",
       "48969                 40.224097                    0      10004  \n",
       "48970                 37.366360                    0      48012  \n",
       "48971                 66.239065                    0       4712  \n",
       "\n",
       "[48972 rows x 13 columns]"
      ]
     },
     "execution_count": 395,
     "metadata": {},
     "output_type": "execute_result"
    }
   ],
   "source": [
    "df=pd.read_csv(\"home.csv\")\n",
    "df"
   ]
  },
  {
   "cell_type": "markdown",
   "id": "0cfe811b-519e-494b-acb2-1e1848a9e080",
   "metadata": {},
   "source": [
    "# understand the business problem"
   ]
  },
  {
   "cell_type": "code",
   "execution_count": null,
   "id": "ee66e9d9-00bc-4a7e-928c-8c79a01e4466",
   "metadata": {},
   "outputs": [],
   "source": [
    "# how to save the electrictiy \n",
    "# how to safe the electronics devices"
   ]
  },
  {
   "cell_type": "markdown",
   "id": "93ae3bf1-dbd7-4da2-b8f5-d150398d309a",
   "metadata": {},
   "source": [
    "# data understanding and exploration"
   ]
  },
  {
   "cell_type": "code",
   "execution_count": 9,
   "id": "59cd96bb-0049-45d0-9b2b-0ca51087fec9",
   "metadata": {},
   "outputs": [
    {
     "name": "stdout",
     "output_type": "stream",
     "text": [
      "<class 'pandas.core.frame.DataFrame'>\n",
      "RangeIndex: 48972 entries, 0 to 48971\n",
      "Data columns (total 13 columns):\n",
      " #   Column                    Non-Null Count  Dtype  \n",
      "---  ------                    --------------  -----  \n",
      " 0   Unix Timestamp            48972 non-null  int64  \n",
      " 1   Transaction_ID            48972 non-null  int64  \n",
      " 2   Television                48972 non-null  int64  \n",
      " 3   Dryer                     48972 non-null  int64  \n",
      " 4   Oven                      48972 non-null  int64  \n",
      " 5   Refrigerator              48972 non-null  int64  \n",
      " 6   Microwave                 48972 non-null  int64  \n",
      " 7   Line Voltage              48972 non-null  int64  \n",
      " 8   Voltage                   48972 non-null  int64  \n",
      " 9   Apparent Power            48972 non-null  int64  \n",
      " 10  Energy Consumption (kWh)  48972 non-null  float64\n",
      " 11  Offloading Decision       48972 non-null  int64  \n",
      " 12  Bandwidth                 48972 non-null  int64  \n",
      "dtypes: float64(1), int64(12)\n",
      "memory usage: 4.9 MB\n"
     ]
    }
   ],
   "source": [
    "df.info()"
   ]
  },
  {
   "cell_type": "code",
   "execution_count": 11,
   "id": "a1d3724b-eff2-4370-a32d-469483423940",
   "metadata": {},
   "outputs": [
    {
     "data": {
      "text/plain": [
       "Unix Timestamp                int64\n",
       "Transaction_ID                int64\n",
       "Television                    int64\n",
       "Dryer                         int64\n",
       "Oven                          int64\n",
       "Refrigerator                  int64\n",
       "Microwave                     int64\n",
       "Line Voltage                  int64\n",
       "Voltage                       int64\n",
       "Apparent Power                int64\n",
       "Energy Consumption (kWh)    float64\n",
       "Offloading Decision           int64\n",
       "Bandwidth                     int64\n",
       "dtype: object"
      ]
     },
     "execution_count": 11,
     "metadata": {},
     "output_type": "execute_result"
    }
   ],
   "source": [
    "df.dtypes"
   ]
  },
  {
   "cell_type": "code",
   "execution_count": 13,
   "id": "1f2ee755-ab9e-4302-9a60-abab917c251f",
   "metadata": {},
   "outputs": [
    {
     "data": {
      "text/plain": [
       "['Unix Timestamp',\n",
       " 'Transaction_ID',\n",
       " 'Television',\n",
       " 'Dryer',\n",
       " 'Oven',\n",
       " 'Refrigerator',\n",
       " 'Microwave',\n",
       " 'Line Voltage',\n",
       " 'Voltage',\n",
       " 'Apparent Power',\n",
       " 'Energy Consumption (kWh)',\n",
       " 'Offloading Decision',\n",
       " 'Bandwidth']"
      ]
     },
     "execution_count": 13,
     "metadata": {},
     "output_type": "execute_result"
    }
   ],
   "source": [
    "df.keys().to_list()"
   ]
  },
  {
   "cell_type": "code",
   "execution_count": 15,
   "id": "6680caee-1037-4968-8c0d-94ea3ba42e48",
   "metadata": {},
   "outputs": [
    {
     "data": {
      "text/plain": [
       "(48972, 13)"
      ]
     },
     "execution_count": 15,
     "metadata": {},
     "output_type": "execute_result"
    }
   ],
   "source": [
    "df.shape"
   ]
  },
  {
   "cell_type": "code",
   "execution_count": 17,
   "id": "48c19fd1-ea78-449d-8a67-1235c41a8667",
   "metadata": {},
   "outputs": [
    {
     "data": {
      "text/plain": [
       "2"
      ]
     },
     "execution_count": 17,
     "metadata": {},
     "output_type": "execute_result"
    }
   ],
   "source": [
    "df.ndim"
   ]
  },
  {
   "cell_type": "code",
   "execution_count": 19,
   "id": "b2b470fa-61ee-42d7-89dd-1f0294e155de",
   "metadata": {},
   "outputs": [
    {
     "data": {
      "text/plain": [
       "Unix Timestamp              0\n",
       "Transaction_ID              0\n",
       "Television                  0\n",
       "Dryer                       0\n",
       "Oven                        0\n",
       "Refrigerator                0\n",
       "Microwave                   0\n",
       "Line Voltage                0\n",
       "Voltage                     0\n",
       "Apparent Power              0\n",
       "Energy Consumption (kWh)    0\n",
       "Offloading Decision         0\n",
       "Bandwidth                   0\n",
       "dtype: int64"
      ]
     },
     "execution_count": 19,
     "metadata": {},
     "output_type": "execute_result"
    }
   ],
   "source": [
    "df.isnull().sum()"
   ]
  },
  {
   "cell_type": "code",
   "execution_count": 21,
   "id": "bf95fc8c-6315-490d-841b-6f63b1ae178d",
   "metadata": {},
   "outputs": [
    {
     "data": {
      "text/html": [
       "<div>\n",
       "<style scoped>\n",
       "    .dataframe tbody tr th:only-of-type {\n",
       "        vertical-align: middle;\n",
       "    }\n",
       "\n",
       "    .dataframe tbody tr th {\n",
       "        vertical-align: top;\n",
       "    }\n",
       "\n",
       "    .dataframe thead th {\n",
       "        text-align: right;\n",
       "    }\n",
       "</style>\n",
       "<table border=\"1\" class=\"dataframe\">\n",
       "  <thead>\n",
       "    <tr style=\"text-align: right;\">\n",
       "      <th></th>\n",
       "      <th>Unix Timestamp</th>\n",
       "      <th>Transaction_ID</th>\n",
       "      <th>Television</th>\n",
       "      <th>Dryer</th>\n",
       "      <th>Oven</th>\n",
       "      <th>Refrigerator</th>\n",
       "      <th>Microwave</th>\n",
       "      <th>Line Voltage</th>\n",
       "      <th>Voltage</th>\n",
       "      <th>Apparent Power</th>\n",
       "      <th>Energy Consumption (kWh)</th>\n",
       "      <th>Offloading Decision</th>\n",
       "      <th>Bandwidth</th>\n",
       "    </tr>\n",
       "  </thead>\n",
       "  <tbody>\n",
       "    <tr>\n",
       "      <th>0</th>\n",
       "      <td>1577836800</td>\n",
       "      <td>1</td>\n",
       "      <td>0</td>\n",
       "      <td>0</td>\n",
       "      <td>0</td>\n",
       "      <td>1</td>\n",
       "      <td>0</td>\n",
       "      <td>237</td>\n",
       "      <td>233</td>\n",
       "      <td>1559</td>\n",
       "      <td>24.001763</td>\n",
       "      <td>0</td>\n",
       "      <td>30741</td>\n",
       "    </tr>\n",
       "    <tr>\n",
       "      <th>1</th>\n",
       "      <td>1577839322</td>\n",
       "      <td>2</td>\n",
       "      <td>0</td>\n",
       "      <td>1</td>\n",
       "      <td>0</td>\n",
       "      <td>0</td>\n",
       "      <td>1</td>\n",
       "      <td>232</td>\n",
       "      <td>230</td>\n",
       "      <td>1970</td>\n",
       "      <td>31.225154</td>\n",
       "      <td>1</td>\n",
       "      <td>35070</td>\n",
       "    </tr>\n",
       "  </tbody>\n",
       "</table>\n",
       "</div>"
      ],
      "text/plain": [
       "   Unix Timestamp  Transaction_ID  Television  Dryer  Oven  Refrigerator  \\\n",
       "0      1577836800               1           0      0     0             1   \n",
       "1      1577839322               2           0      1     0             0   \n",
       "\n",
       "   Microwave  Line Voltage  Voltage  Apparent Power  Energy Consumption (kWh)  \\\n",
       "0          0           237      233            1559                 24.001763   \n",
       "1          1           232      230            1970                 31.225154   \n",
       "\n",
       "   Offloading Decision  Bandwidth  \n",
       "0                    0      30741  \n",
       "1                    1      35070  "
      ]
     },
     "execution_count": 21,
     "metadata": {},
     "output_type": "execute_result"
    }
   ],
   "source": [
    "df.head(2)"
   ]
  },
  {
   "cell_type": "code",
   "execution_count": 23,
   "id": "dd43cb64-e07f-4bc0-ba1d-18c7fc3e4b7a",
   "metadata": {},
   "outputs": [
    {
     "data": {
      "text/html": [
       "<div>\n",
       "<style scoped>\n",
       "    .dataframe tbody tr th:only-of-type {\n",
       "        vertical-align: middle;\n",
       "    }\n",
       "\n",
       "    .dataframe tbody tr th {\n",
       "        vertical-align: top;\n",
       "    }\n",
       "\n",
       "    .dataframe thead th {\n",
       "        text-align: right;\n",
       "    }\n",
       "</style>\n",
       "<table border=\"1\" class=\"dataframe\">\n",
       "  <thead>\n",
       "    <tr style=\"text-align: right;\">\n",
       "      <th></th>\n",
       "      <th>Unix Timestamp</th>\n",
       "      <th>Transaction_ID</th>\n",
       "      <th>Television</th>\n",
       "      <th>Dryer</th>\n",
       "      <th>Oven</th>\n",
       "      <th>Refrigerator</th>\n",
       "      <th>Microwave</th>\n",
       "      <th>Line Voltage</th>\n",
       "      <th>Voltage</th>\n",
       "      <th>Apparent Power</th>\n",
       "      <th>Energy Consumption (kWh)</th>\n",
       "      <th>Offloading Decision</th>\n",
       "      <th>Bandwidth</th>\n",
       "    </tr>\n",
       "  </thead>\n",
       "  <tbody>\n",
       "    <tr>\n",
       "      <th>48967</th>\n",
       "      <td>1701377135</td>\n",
       "      <td>48968</td>\n",
       "      <td>1</td>\n",
       "      <td>0</td>\n",
       "      <td>1</td>\n",
       "      <td>0</td>\n",
       "      <td>0</td>\n",
       "      <td>234</td>\n",
       "      <td>230</td>\n",
       "      <td>1815</td>\n",
       "      <td>20.161006</td>\n",
       "      <td>1</td>\n",
       "      <td>22742</td>\n",
       "    </tr>\n",
       "    <tr>\n",
       "      <th>48968</th>\n",
       "      <td>1701379658</td>\n",
       "      <td>48969</td>\n",
       "      <td>0</td>\n",
       "      <td>0</td>\n",
       "      <td>1</td>\n",
       "      <td>0</td>\n",
       "      <td>1</td>\n",
       "      <td>238</td>\n",
       "      <td>235</td>\n",
       "      <td>1692</td>\n",
       "      <td>91.965343</td>\n",
       "      <td>0</td>\n",
       "      <td>22466</td>\n",
       "    </tr>\n",
       "    <tr>\n",
       "      <th>48969</th>\n",
       "      <td>1701382181</td>\n",
       "      <td>48970</td>\n",
       "      <td>1</td>\n",
       "      <td>0</td>\n",
       "      <td>0</td>\n",
       "      <td>1</td>\n",
       "      <td>1</td>\n",
       "      <td>235</td>\n",
       "      <td>229</td>\n",
       "      <td>1686</td>\n",
       "      <td>40.224097</td>\n",
       "      <td>0</td>\n",
       "      <td>10004</td>\n",
       "    </tr>\n",
       "    <tr>\n",
       "      <th>48970</th>\n",
       "      <td>1701384704</td>\n",
       "      <td>48971</td>\n",
       "      <td>1</td>\n",
       "      <td>1</td>\n",
       "      <td>1</td>\n",
       "      <td>1</td>\n",
       "      <td>1</td>\n",
       "      <td>237</td>\n",
       "      <td>230</td>\n",
       "      <td>1754</td>\n",
       "      <td>37.366360</td>\n",
       "      <td>0</td>\n",
       "      <td>48012</td>\n",
       "    </tr>\n",
       "    <tr>\n",
       "      <th>48971</th>\n",
       "      <td>1701387227</td>\n",
       "      <td>48972</td>\n",
       "      <td>0</td>\n",
       "      <td>0</td>\n",
       "      <td>0</td>\n",
       "      <td>0</td>\n",
       "      <td>1</td>\n",
       "      <td>220</td>\n",
       "      <td>215</td>\n",
       "      <td>1660</td>\n",
       "      <td>66.239065</td>\n",
       "      <td>0</td>\n",
       "      <td>4712</td>\n",
       "    </tr>\n",
       "  </tbody>\n",
       "</table>\n",
       "</div>"
      ],
      "text/plain": [
       "       Unix Timestamp  Transaction_ID  Television  Dryer  Oven  Refrigerator  \\\n",
       "48967      1701377135           48968           1      0     1             0   \n",
       "48968      1701379658           48969           0      0     1             0   \n",
       "48969      1701382181           48970           1      0     0             1   \n",
       "48970      1701384704           48971           1      1     1             1   \n",
       "48971      1701387227           48972           0      0     0             0   \n",
       "\n",
       "       Microwave  Line Voltage  Voltage  Apparent Power  \\\n",
       "48967          0           234      230            1815   \n",
       "48968          1           238      235            1692   \n",
       "48969          1           235      229            1686   \n",
       "48970          1           237      230            1754   \n",
       "48971          1           220      215            1660   \n",
       "\n",
       "       Energy Consumption (kWh)  Offloading Decision  Bandwidth  \n",
       "48967                 20.161006                    1      22742  \n",
       "48968                 91.965343                    0      22466  \n",
       "48969                 40.224097                    0      10004  \n",
       "48970                 37.366360                    0      48012  \n",
       "48971                 66.239065                    0       4712  "
      ]
     },
     "execution_count": 23,
     "metadata": {},
     "output_type": "execute_result"
    }
   ],
   "source": [
    "df.tail()"
   ]
  },
  {
   "cell_type": "markdown",
   "id": "a8b8b89f-ad08-4091-af44-0ba596705b67",
   "metadata": {},
   "source": [
    "#  column=1 Unix Timestamp\t"
   ]
  },
  {
   "cell_type": "code",
   "execution_count": 25,
   "id": "99872401-f93b-48ef-a3b1-9cbedf55c74e",
   "metadata": {},
   "outputs": [
    {
     "data": {
      "text/plain": [
       "dtype('int64')"
      ]
     },
     "execution_count": 25,
     "metadata": {},
     "output_type": "execute_result"
    }
   ],
   "source": [
    "# this is the continuous variable and correct data types and there is not any null value\n",
    "# but there is no use of this column in the analysis simply drop this column\n",
    "df[\"Unix Timestamp\"].dtypes"
   ]
  },
  {
   "cell_type": "code",
   "execution_count": 27,
   "id": "ee6a82de-0289-4acb-92b0-08755f04e113",
   "metadata": {},
   "outputs": [
    {
     "data": {
      "text/plain": [
       "0"
      ]
     },
     "execution_count": 27,
     "metadata": {},
     "output_type": "execute_result"
    }
   ],
   "source": [
    "df[\"Unix Timestamp\"].isnull().sum()"
   ]
  },
  {
   "cell_type": "code",
   "execution_count": null,
   "id": "5bb631a8-781b-49ab-b490-c33f42197819",
   "metadata": {},
   "outputs": [],
   "source": [
    "#column=2 Transaction_ID"
   ]
  },
  {
   "cell_type": "code",
   "execution_count": 42,
   "id": "c4491c1e-53f1-4230-a091-1d533ac62fe4",
   "metadata": {},
   "outputs": [
    {
     "data": {
      "text/plain": [
       "dtype('int64')"
      ]
     },
     "execution_count": 42,
     "metadata": {},
     "output_type": "execute_result"
    }
   ],
   "source": [
    "# this is the continuous variable and correct data types and there is not any null value\n",
    "# but there is no use of this column in the analysis simply drop this column\n",
    "df[\"Transaction_ID\"].dtypes"
   ]
  },
  {
   "cell_type": "code",
   "execution_count": 29,
   "id": "f394ca5d-2cd5-492a-a313-de4dcc2ea9fd",
   "metadata": {},
   "outputs": [
    {
     "data": {
      "text/plain": [
       "0"
      ]
     },
     "execution_count": 29,
     "metadata": {},
     "output_type": "execute_result"
    }
   ],
   "source": [
    "df[\"Transaction_ID\"].isnull().sum()"
   ]
  },
  {
   "cell_type": "markdown",
   "id": "fd7fd55c-6ab3-48c9-89fd-501ca376f7ee",
   "metadata": {},
   "source": [
    "# column=3 Television"
   ]
  },
  {
   "cell_type": "code",
   "execution_count": 31,
   "id": "b837515d-8f3f-4a64-a57c-4849388100e7",
   "metadata": {},
   "outputs": [
    {
     "data": {
      "text/plain": [
       "dtype('int64')"
      ]
     },
     "execution_count": 31,
     "metadata": {},
     "output_type": "execute_result"
    }
   ],
   "source": [
    "# this is the count variable and correct data types and there is not any null value\n",
    "df[\"Television\"].dtypes"
   ]
  },
  {
   "cell_type": "code",
   "execution_count": 33,
   "id": "83691a79-8eb5-46c6-8b2c-869718c30313",
   "metadata": {},
   "outputs": [
    {
     "data": {
      "text/plain": [
       "array([0, 1], dtype=int64)"
      ]
     },
     "execution_count": 33,
     "metadata": {},
     "output_type": "execute_result"
    }
   ],
   "source": [
    "df[\"Television\"].unique()"
   ]
  },
  {
   "cell_type": "code",
   "execution_count": 35,
   "id": "0e6cf96d-3994-428b-b26a-667a21b86097",
   "metadata": {},
   "outputs": [
    {
     "data": {
      "text/plain": [
       "Television\n",
       "1    24655\n",
       "0    24317\n",
       "Name: count, dtype: int64"
      ]
     },
     "execution_count": 35,
     "metadata": {},
     "output_type": "execute_result"
    }
   ],
   "source": [
    "df[\"Television\"].value_counts()"
   ]
  },
  {
   "cell_type": "code",
   "execution_count": 37,
   "id": "e04f27a0-8050-4c9c-9916-e2e7fe456390",
   "metadata": {},
   "outputs": [
    {
     "data": {
      "text/plain": [
       "0"
      ]
     },
     "execution_count": 37,
     "metadata": {},
     "output_type": "execute_result"
    }
   ],
   "source": [
    "df[\"Television\"].isnull().sum()"
   ]
  },
  {
   "cell_type": "markdown",
   "id": "22e2acd8-a7a1-4da9-b968-b6c2af47669f",
   "metadata": {},
   "source": [
    "# column 4 Dryer"
   ]
  },
  {
   "cell_type": "code",
   "execution_count": 54,
   "id": "e0df3bba-977e-4611-bbde-84e691b0146f",
   "metadata": {},
   "outputs": [
    {
     "data": {
      "text/plain": [
       "dtype('int64')"
      ]
     },
     "execution_count": 54,
     "metadata": {},
     "output_type": "execute_result"
    }
   ],
   "source": [
    "# this is the count variable and correct data types and there is not any null value\n",
    "df[\"Dryer\"].dtypes"
   ]
  },
  {
   "cell_type": "code",
   "execution_count": 56,
   "id": "dd275fb0-5583-4e8f-8a3a-356669c2e8f1",
   "metadata": {},
   "outputs": [
    {
     "data": {
      "text/plain": [
       "array([0, 1], dtype=int64)"
      ]
     },
     "execution_count": 56,
     "metadata": {},
     "output_type": "execute_result"
    }
   ],
   "source": [
    "df[\"Dryer\"].unique()"
   ]
  },
  {
   "cell_type": "code",
   "execution_count": 39,
   "id": "1e8e09db-c136-4e0f-ae61-4d29b3a6f37d",
   "metadata": {},
   "outputs": [
    {
     "data": {
      "text/plain": [
       "Dryer\n",
       "1    24490\n",
       "0    24482\n",
       "Name: count, dtype: int64"
      ]
     },
     "execution_count": 39,
     "metadata": {},
     "output_type": "execute_result"
    }
   ],
   "source": [
    "df[\"Dryer\"].value_counts()"
   ]
  },
  {
   "cell_type": "code",
   "execution_count": 60,
   "id": "0ea1d91a-99ee-4350-822e-593b70df0bb5",
   "metadata": {},
   "outputs": [
    {
     "data": {
      "text/plain": [
       "0"
      ]
     },
     "execution_count": 60,
     "metadata": {},
     "output_type": "execute_result"
    }
   ],
   "source": [
    "df[\"Dryer\"].isnull().sum()"
   ]
  },
  {
   "cell_type": "markdown",
   "id": "6e7057c7-da37-47a3-a24e-91cdd3a70f85",
   "metadata": {},
   "source": [
    "# column=5 \tOven"
   ]
  },
  {
   "cell_type": "code",
   "execution_count": 41,
   "id": "a7d768f7-d450-4c03-a000-6838c052108c",
   "metadata": {},
   "outputs": [
    {
     "data": {
      "text/plain": [
       "dtype('int64')"
      ]
     },
     "execution_count": 41,
     "metadata": {},
     "output_type": "execute_result"
    }
   ],
   "source": [
    "# this is the count variable and correct data types and there is not any null value\n",
    "df[\"Oven\"].dtypes"
   ]
  },
  {
   "cell_type": "code",
   "execution_count": 43,
   "id": "db5f41ea-4d25-4237-b3aa-c2a7041ccfeb",
   "metadata": {},
   "outputs": [
    {
     "data": {
      "text/plain": [
       "array([0, 1], dtype=int64)"
      ]
     },
     "execution_count": 43,
     "metadata": {},
     "output_type": "execute_result"
    }
   ],
   "source": [
    "df[\"Oven\"].unique()"
   ]
  },
  {
   "cell_type": "code",
   "execution_count": 45,
   "id": "450de7a5-e8f8-42ae-8f54-c6058f1aa0f8",
   "metadata": {},
   "outputs": [
    {
     "data": {
      "text/plain": [
       "Oven\n",
       "1    24583\n",
       "0    24389\n",
       "Name: count, dtype: int64"
      ]
     },
     "execution_count": 45,
     "metadata": {},
     "output_type": "execute_result"
    }
   ],
   "source": [
    "df[\"Oven\"].value_counts()"
   ]
  },
  {
   "cell_type": "code",
   "execution_count": 68,
   "id": "e55bf00e-a07e-4634-8daa-8cac9dc36760",
   "metadata": {},
   "outputs": [
    {
     "data": {
      "text/plain": [
       "0"
      ]
     },
     "execution_count": 68,
     "metadata": {},
     "output_type": "execute_result"
    }
   ],
   "source": [
    "df[\"Oven\"].isnull().sum()"
   ]
  },
  {
   "cell_type": "markdown",
   "id": "da432e86-1271-412d-a1e5-60a39a1af757",
   "metadata": {},
   "source": [
    "# column=7 Refrigerator"
   ]
  },
  {
   "cell_type": "code",
   "execution_count": 70,
   "id": "3297e0f9-5655-4721-81b5-09eefb8e4f9e",
   "metadata": {},
   "outputs": [
    {
     "data": {
      "text/plain": [
       "dtype('int64')"
      ]
     },
     "execution_count": 70,
     "metadata": {},
     "output_type": "execute_result"
    }
   ],
   "source": [
    "# this is the count variable and correct data types and there is not any null value\n",
    "df[\"Refrigerator\"].dtypes"
   ]
  },
  {
   "cell_type": "code",
   "execution_count": 47,
   "id": "81276296-5c97-4121-9c37-ab4c105dffce",
   "metadata": {},
   "outputs": [
    {
     "data": {
      "text/plain": [
       "array([1, 0], dtype=int64)"
      ]
     },
     "execution_count": 47,
     "metadata": {},
     "output_type": "execute_result"
    }
   ],
   "source": [
    "df[\"Refrigerator\"].unique()"
   ]
  },
  {
   "cell_type": "code",
   "execution_count": 72,
   "id": "998a580f-5d7e-4d50-a69b-9d9f3d627930",
   "metadata": {},
   "outputs": [
    {
     "data": {
      "text/plain": [
       "Refrigerator\n",
       "1    24601\n",
       "0    24371\n",
       "Name: count, dtype: int64"
      ]
     },
     "execution_count": 72,
     "metadata": {},
     "output_type": "execute_result"
    }
   ],
   "source": [
    "df[\"Refrigerator\"].value_counts()"
   ]
  },
  {
   "cell_type": "code",
   "execution_count": 49,
   "id": "06db2f34-424e-4bf7-bc16-5d6b23cb936e",
   "metadata": {},
   "outputs": [
    {
     "data": {
      "text/plain": [
       "0"
      ]
     },
     "execution_count": 49,
     "metadata": {},
     "output_type": "execute_result"
    }
   ],
   "source": [
    "df[\"Refrigerator\"].isnull().sum()"
   ]
  },
  {
   "cell_type": "markdown",
   "id": "9d5777c8-be55-41f2-930a-58d9ff10ccd6",
   "metadata": {},
   "source": [
    "# column=8 Microwave"
   ]
  },
  {
   "cell_type": "code",
   "execution_count": 78,
   "id": "d7e740dc-cbfc-4b44-9f7a-7d8da00a7ce0",
   "metadata": {},
   "outputs": [
    {
     "data": {
      "text/plain": [
       "dtype('int64')"
      ]
     },
     "execution_count": 78,
     "metadata": {},
     "output_type": "execute_result"
    }
   ],
   "source": [
    "# this is the count variable and correct data types and there is not any null value\n",
    "df[\"Microwave\"].dtypes"
   ]
  },
  {
   "cell_type": "code",
   "execution_count": 80,
   "id": "8ea4fa3b-1fec-4aa6-aac1-66449a0e6b61",
   "metadata": {},
   "outputs": [
    {
     "data": {
      "text/plain": [
       "array([0, 1], dtype=int64)"
      ]
     },
     "execution_count": 80,
     "metadata": {},
     "output_type": "execute_result"
    }
   ],
   "source": [
    "df[\"Microwave\"].unique()"
   ]
  },
  {
   "cell_type": "code",
   "execution_count": 51,
   "id": "613893da-c07a-479e-a2a3-a3d728930562",
   "metadata": {},
   "outputs": [
    {
     "data": {
      "text/plain": [
       "Microwave\n",
       "1    24542\n",
       "0    24430\n",
       "Name: count, dtype: int64"
      ]
     },
     "execution_count": 51,
     "metadata": {},
     "output_type": "execute_result"
    }
   ],
   "source": [
    "df[\"Microwave\"].value_counts()"
   ]
  },
  {
   "cell_type": "code",
   "execution_count": 84,
   "id": "41311b25-876b-4019-8919-55505850d922",
   "metadata": {},
   "outputs": [
    {
     "data": {
      "text/plain": [
       "0"
      ]
     },
     "execution_count": 84,
     "metadata": {},
     "output_type": "execute_result"
    }
   ],
   "source": [
    "df[\"Microwave\"].isnull().sum()"
   ]
  },
  {
   "cell_type": "markdown",
   "id": "91be58b4-5f79-4285-aa9c-c1336c0be2dd",
   "metadata": {},
   "source": [
    "# column=9 Line Voltage"
   ]
  },
  {
   "cell_type": "code",
   "execution_count": 53,
   "id": "947b17cf-ac1e-4c8c-ab40-48c77a375850",
   "metadata": {},
   "outputs": [
    {
     "data": {
      "text/plain": [
       "dtype('int64')"
      ]
     },
     "execution_count": 53,
     "metadata": {},
     "output_type": "execute_result"
    }
   ],
   "source": [
    "# this is the continuous variable and correct data types and there is not any null value\n",
    "df[\"Line Voltage\"].dtypes"
   ]
  },
  {
   "cell_type": "code",
   "execution_count": 90,
   "id": "a1b6c585-3565-4861-9d7a-72800a01a705",
   "metadata": {},
   "outputs": [
    {
     "data": {
      "text/plain": [
       "0"
      ]
     },
     "execution_count": 90,
     "metadata": {},
     "output_type": "execute_result"
    }
   ],
   "source": [
    "df[\"Line Voltage\"].isnull().sum()"
   ]
  },
  {
   "cell_type": "markdown",
   "id": "553b10f1-3b12-4404-9fa1-34d091209b19",
   "metadata": {},
   "source": [
    "# column=10 Voltage"
   ]
  },
  {
   "cell_type": "code",
   "execution_count": 92,
   "id": "1bd98f96-312b-4bf2-8249-7e76fabcb22e",
   "metadata": {},
   "outputs": [
    {
     "data": {
      "text/plain": [
       "dtype('int64')"
      ]
     },
     "execution_count": 92,
     "metadata": {},
     "output_type": "execute_result"
    }
   ],
   "source": [
    "# this is the continuous variable and correct data types and there is not any null value\n",
    "df[\"Voltage\"].dtypes"
   ]
  },
  {
   "cell_type": "code",
   "execution_count": 96,
   "id": "ae65fd0a-9024-4d26-8ba9-ec70e61f9865",
   "metadata": {},
   "outputs": [
    {
     "data": {
      "text/plain": [
       "0"
      ]
     },
     "execution_count": 96,
     "metadata": {},
     "output_type": "execute_result"
    }
   ],
   "source": [
    "df[\"Voltage\"].isnull().sum()"
   ]
  },
  {
   "cell_type": "markdown",
   "id": "87240ede-efbc-443f-b80e-d632833c1488",
   "metadata": {},
   "source": [
    "# column=11 Energy Consumption (kWh)"
   ]
  },
  {
   "cell_type": "code",
   "execution_count": 98,
   "id": "4afacac5-10d0-42d7-b4ed-c856fd98cb66",
   "metadata": {},
   "outputs": [
    {
     "data": {
      "text/plain": [
       "dtype('float64')"
      ]
     },
     "execution_count": 98,
     "metadata": {},
     "output_type": "execute_result"
    }
   ],
   "source": [
    "# this is the continuous variable and correct data types and there is not any null value\n",
    "df[\"Energy Consumption (kWh)\"].dtypes"
   ]
  },
  {
   "cell_type": "code",
   "execution_count": 55,
   "id": "6ea129c0-d012-4702-a95b-f11a3e5463d0",
   "metadata": {},
   "outputs": [
    {
     "data": {
      "text/plain": [
       "0"
      ]
     },
     "execution_count": 55,
     "metadata": {},
     "output_type": "execute_result"
    }
   ],
   "source": [
    "df[\"Energy Consumption (kWh)\"].isnull().sum()"
   ]
  },
  {
   "cell_type": "markdown",
   "id": "fcd6d0ea-7d1e-4eac-915e-1355ccb13c6e",
   "metadata": {},
   "source": [
    "# column= 12 Apparent Power"
   ]
  },
  {
   "cell_type": "code",
   "execution_count": 102,
   "id": "1131590a-d275-42a2-b35d-04e08564c7b8",
   "metadata": {},
   "outputs": [
    {
     "data": {
      "text/plain": [
       "dtype('int64')"
      ]
     },
     "execution_count": 102,
     "metadata": {},
     "output_type": "execute_result"
    }
   ],
   "source": [
    "# this is the continuous variable and correct data types and there is not any null value\n",
    "df[\"Apparent Power\"].dtypes"
   ]
  },
  {
   "cell_type": "code",
   "execution_count": 106,
   "id": "50c07420-b791-4be0-86a3-1a02a0e6bfc8",
   "metadata": {},
   "outputs": [
    {
     "data": {
      "text/plain": [
       "0"
      ]
     },
     "execution_count": 106,
     "metadata": {},
     "output_type": "execute_result"
    }
   ],
   "source": [
    "df[\"Apparent Power\"].isnull().sum()"
   ]
  },
  {
   "cell_type": "markdown",
   "id": "f8853672-8dce-4b53-a73b-8960e4e155d1",
   "metadata": {},
   "source": [
    "# column= 13 Bandwidth"
   ]
  },
  {
   "cell_type": "code",
   "execution_count": 108,
   "id": "db4850ce-d30a-4c9d-918a-a96475a7541b",
   "metadata": {},
   "outputs": [
    {
     "data": {
      "text/plain": [
       "dtype('int64')"
      ]
     },
     "execution_count": 108,
     "metadata": {},
     "output_type": "execute_result"
    }
   ],
   "source": [
    "# this is the continuous variable and correct data types and there is not any null value\n",
    "df[\"Bandwidth\"].dtypes"
   ]
  },
  {
   "cell_type": "code",
   "execution_count": 110,
   "id": "5de2da39-f72c-4ab6-8011-1971cbba9720",
   "metadata": {},
   "outputs": [
    {
     "data": {
      "text/plain": [
       "0"
      ]
     },
     "execution_count": 110,
     "metadata": {},
     "output_type": "execute_result"
    }
   ],
   "source": [
    "df[\"Bandwidth\"].isnull().sum()"
   ]
  },
  {
   "cell_type": "markdown",
   "id": "de3f2a61-52b5-4c10-8a4a-3362d62f08d0",
   "metadata": {},
   "source": [
    "# data preprocessing"
   ]
  },
  {
   "cell_type": "code",
   "execution_count": null,
   "id": "bbccaa8a-9b2c-4b17-b82a-0747b3c3232b",
   "metadata": {},
   "outputs": [],
   "source": [
    "# Data cleaning\n",
    "# demension reduction\n",
    "# Data transformation"
   ]
  },
  {
   "cell_type": "code",
   "execution_count": 250,
   "id": "86278d64-cc9b-4364-9ebd-1d8bfd65c746",
   "metadata": {},
   "outputs": [],
   "source": [
    "#df.drop(columns=[\"Unix Timestamp\",\"Transaction_ID\"],inplace=True)"
   ]
  },
  {
   "cell_type": "code",
   "execution_count": 7,
   "id": "17818221-5d9e-46d0-9a37-092bc3f0d909",
   "metadata": {},
   "outputs": [
    {
     "data": {
      "text/html": [
       "<div>\n",
       "<style scoped>\n",
       "    .dataframe tbody tr th:only-of-type {\n",
       "        vertical-align: middle;\n",
       "    }\n",
       "\n",
       "    .dataframe tbody tr th {\n",
       "        vertical-align: top;\n",
       "    }\n",
       "\n",
       "    .dataframe thead th {\n",
       "        text-align: right;\n",
       "    }\n",
       "</style>\n",
       "<table border=\"1\" class=\"dataframe\">\n",
       "  <thead>\n",
       "    <tr style=\"text-align: right;\">\n",
       "      <th></th>\n",
       "      <th>Unix Timestamp</th>\n",
       "      <th>Transaction_ID</th>\n",
       "      <th>Television</th>\n",
       "      <th>Dryer</th>\n",
       "      <th>Oven</th>\n",
       "      <th>Refrigerator</th>\n",
       "      <th>Microwave</th>\n",
       "      <th>Line Voltage</th>\n",
       "      <th>Voltage</th>\n",
       "      <th>Apparent Power</th>\n",
       "      <th>Energy Consumption (kWh)</th>\n",
       "      <th>Offloading Decision</th>\n",
       "      <th>Bandwidth</th>\n",
       "    </tr>\n",
       "  </thead>\n",
       "  <tbody>\n",
       "    <tr>\n",
       "      <th>0</th>\n",
       "      <td>1577836800</td>\n",
       "      <td>1</td>\n",
       "      <td>0</td>\n",
       "      <td>0</td>\n",
       "      <td>0</td>\n",
       "      <td>1</td>\n",
       "      <td>0</td>\n",
       "      <td>237</td>\n",
       "      <td>233</td>\n",
       "      <td>1559</td>\n",
       "      <td>24.001763</td>\n",
       "      <td>0</td>\n",
       "      <td>30741</td>\n",
       "    </tr>\n",
       "    <tr>\n",
       "      <th>1</th>\n",
       "      <td>1577839322</td>\n",
       "      <td>2</td>\n",
       "      <td>0</td>\n",
       "      <td>1</td>\n",
       "      <td>0</td>\n",
       "      <td>0</td>\n",
       "      <td>1</td>\n",
       "      <td>232</td>\n",
       "      <td>230</td>\n",
       "      <td>1970</td>\n",
       "      <td>31.225154</td>\n",
       "      <td>1</td>\n",
       "      <td>35070</td>\n",
       "    </tr>\n",
       "    <tr>\n",
       "      <th>2</th>\n",
       "      <td>1577841845</td>\n",
       "      <td>3</td>\n",
       "      <td>0</td>\n",
       "      <td>1</td>\n",
       "      <td>0</td>\n",
       "      <td>0</td>\n",
       "      <td>0</td>\n",
       "      <td>223</td>\n",
       "      <td>222</td>\n",
       "      <td>1684</td>\n",
       "      <td>70.460700</td>\n",
       "      <td>1</td>\n",
       "      <td>44253</td>\n",
       "    </tr>\n",
       "    <tr>\n",
       "      <th>3</th>\n",
       "      <td>1577844368</td>\n",
       "      <td>4</td>\n",
       "      <td>1</td>\n",
       "      <td>0</td>\n",
       "      <td>1</td>\n",
       "      <td>1</td>\n",
       "      <td>0</td>\n",
       "      <td>225</td>\n",
       "      <td>224</td>\n",
       "      <td>1694</td>\n",
       "      <td>32.264043</td>\n",
       "      <td>1</td>\n",
       "      <td>20911</td>\n",
       "    </tr>\n",
       "    <tr>\n",
       "      <th>4</th>\n",
       "      <td>1577846891</td>\n",
       "      <td>5</td>\n",
       "      <td>1</td>\n",
       "      <td>0</td>\n",
       "      <td>0</td>\n",
       "      <td>1</td>\n",
       "      <td>0</td>\n",
       "      <td>222</td>\n",
       "      <td>214</td>\n",
       "      <td>1889</td>\n",
       "      <td>32.728111</td>\n",
       "      <td>0</td>\n",
       "      <td>1708</td>\n",
       "    </tr>\n",
       "    <tr>\n",
       "      <th>...</th>\n",
       "      <td>...</td>\n",
       "      <td>...</td>\n",
       "      <td>...</td>\n",
       "      <td>...</td>\n",
       "      <td>...</td>\n",
       "      <td>...</td>\n",
       "      <td>...</td>\n",
       "      <td>...</td>\n",
       "      <td>...</td>\n",
       "      <td>...</td>\n",
       "      <td>...</td>\n",
       "      <td>...</td>\n",
       "      <td>...</td>\n",
       "    </tr>\n",
       "    <tr>\n",
       "      <th>48967</th>\n",
       "      <td>1701377135</td>\n",
       "      <td>48968</td>\n",
       "      <td>1</td>\n",
       "      <td>0</td>\n",
       "      <td>1</td>\n",
       "      <td>0</td>\n",
       "      <td>0</td>\n",
       "      <td>234</td>\n",
       "      <td>230</td>\n",
       "      <td>1815</td>\n",
       "      <td>20.161006</td>\n",
       "      <td>1</td>\n",
       "      <td>22742</td>\n",
       "    </tr>\n",
       "    <tr>\n",
       "      <th>48968</th>\n",
       "      <td>1701379658</td>\n",
       "      <td>48969</td>\n",
       "      <td>0</td>\n",
       "      <td>0</td>\n",
       "      <td>1</td>\n",
       "      <td>0</td>\n",
       "      <td>1</td>\n",
       "      <td>238</td>\n",
       "      <td>235</td>\n",
       "      <td>1692</td>\n",
       "      <td>91.965343</td>\n",
       "      <td>0</td>\n",
       "      <td>22466</td>\n",
       "    </tr>\n",
       "    <tr>\n",
       "      <th>48969</th>\n",
       "      <td>1701382181</td>\n",
       "      <td>48970</td>\n",
       "      <td>1</td>\n",
       "      <td>0</td>\n",
       "      <td>0</td>\n",
       "      <td>1</td>\n",
       "      <td>1</td>\n",
       "      <td>235</td>\n",
       "      <td>229</td>\n",
       "      <td>1686</td>\n",
       "      <td>40.224097</td>\n",
       "      <td>0</td>\n",
       "      <td>10004</td>\n",
       "    </tr>\n",
       "    <tr>\n",
       "      <th>48970</th>\n",
       "      <td>1701384704</td>\n",
       "      <td>48971</td>\n",
       "      <td>1</td>\n",
       "      <td>1</td>\n",
       "      <td>1</td>\n",
       "      <td>1</td>\n",
       "      <td>1</td>\n",
       "      <td>237</td>\n",
       "      <td>230</td>\n",
       "      <td>1754</td>\n",
       "      <td>37.366360</td>\n",
       "      <td>0</td>\n",
       "      <td>48012</td>\n",
       "    </tr>\n",
       "    <tr>\n",
       "      <th>48971</th>\n",
       "      <td>1701387227</td>\n",
       "      <td>48972</td>\n",
       "      <td>0</td>\n",
       "      <td>0</td>\n",
       "      <td>0</td>\n",
       "      <td>0</td>\n",
       "      <td>1</td>\n",
       "      <td>220</td>\n",
       "      <td>215</td>\n",
       "      <td>1660</td>\n",
       "      <td>66.239065</td>\n",
       "      <td>0</td>\n",
       "      <td>4712</td>\n",
       "    </tr>\n",
       "  </tbody>\n",
       "</table>\n",
       "<p>48972 rows × 13 columns</p>\n",
       "</div>"
      ],
      "text/plain": [
       "       Unix Timestamp  Transaction_ID  Television  Dryer  Oven  Refrigerator  \\\n",
       "0          1577836800               1           0      0     0             1   \n",
       "1          1577839322               2           0      1     0             0   \n",
       "2          1577841845               3           0      1     0             0   \n",
       "3          1577844368               4           1      0     1             1   \n",
       "4          1577846891               5           1      0     0             1   \n",
       "...               ...             ...         ...    ...   ...           ...   \n",
       "48967      1701377135           48968           1      0     1             0   \n",
       "48968      1701379658           48969           0      0     1             0   \n",
       "48969      1701382181           48970           1      0     0             1   \n",
       "48970      1701384704           48971           1      1     1             1   \n",
       "48971      1701387227           48972           0      0     0             0   \n",
       "\n",
       "       Microwave  Line Voltage  Voltage  Apparent Power  \\\n",
       "0              0           237      233            1559   \n",
       "1              1           232      230            1970   \n",
       "2              0           223      222            1684   \n",
       "3              0           225      224            1694   \n",
       "4              0           222      214            1889   \n",
       "...          ...           ...      ...             ...   \n",
       "48967          0           234      230            1815   \n",
       "48968          1           238      235            1692   \n",
       "48969          1           235      229            1686   \n",
       "48970          1           237      230            1754   \n",
       "48971          1           220      215            1660   \n",
       "\n",
       "       Energy Consumption (kWh)  Offloading Decision  Bandwidth  \n",
       "0                     24.001763                    0      30741  \n",
       "1                     31.225154                    1      35070  \n",
       "2                     70.460700                    1      44253  \n",
       "3                     32.264043                    1      20911  \n",
       "4                     32.728111                    0       1708  \n",
       "...                         ...                  ...        ...  \n",
       "48967                 20.161006                    1      22742  \n",
       "48968                 91.965343                    0      22466  \n",
       "48969                 40.224097                    0      10004  \n",
       "48970                 37.366360                    0      48012  \n",
       "48971                 66.239065                    0       4712  \n",
       "\n",
       "[48972 rows x 13 columns]"
      ]
     },
     "execution_count": 7,
     "metadata": {},
     "output_type": "execute_result"
    }
   ],
   "source": [
    "df"
   ]
  },
  {
   "cell_type": "code",
   "execution_count": null,
   "id": "d889c07a-653c-4666-b1c5-da98ea70f438",
   "metadata": {},
   "outputs": [],
   "source": []
  },
  {
   "cell_type": "code",
   "execution_count": 115,
   "id": "13b513e1-141f-4438-ac79-549efa8bb0a9",
   "metadata": {},
   "outputs": [
    {
     "data": {
      "text/plain": [
       "0"
      ]
     },
     "execution_count": 115,
     "metadata": {},
     "output_type": "execute_result"
    }
   ],
   "source": [
    "df.duplicated().sum()"
   ]
  },
  {
   "cell_type": "code",
   "execution_count": 103,
   "id": "5ac3c67c-cbd0-42f5-add3-32e78f6120fb",
   "metadata": {},
   "outputs": [
    {
     "data": {
      "text/plain": [
       "Television                  0\n",
       "Dryer                       0\n",
       "Oven                        0\n",
       "Refrigerator                0\n",
       "Microwave                   0\n",
       "Line Voltage                0\n",
       "Voltage                     0\n",
       "Apparent Power              0\n",
       "Energy Consumption (kWh)    0\n",
       "Offloading Decision         0\n",
       "Bandwidth                   0\n",
       "dtype: int64"
      ]
     },
     "execution_count": 103,
     "metadata": {},
     "output_type": "execute_result"
    }
   ],
   "source": [
    "df.isnull().sum()"
   ]
  },
  {
   "cell_type": "code",
   "execution_count": 235,
   "id": "e3e6c8d3-67aa-4f41-844d-d5fa3d576602",
   "metadata": {},
   "outputs": [
    {
     "data": {
      "text/plain": [
       "['Television', 'Dryer', 'Oven', 'Refrigerator', 'Microwave']"
      ]
     },
     "execution_count": 235,
     "metadata": {},
     "output_type": "execute_result"
    }
   ],
   "source": [
    "conti=[\"Bandwidth\",\"Voltage\",\"Line Voltage\",\"Energy Consumption\",\"Offloading Decision\",\n",
    "      \"Apparent Power\"]\n",
    "conti\n",
    "discrete=[\"Television\",\"Dryer\",\"Oven\",\"Refrigerator\",\"Microwave\"]\n",
    "discrete"
   ]
  },
  {
   "cell_type": "markdown",
   "id": "5ce121d9-a526-40a9-9bbd-6bd7c290a304",
   "metadata": {},
   "source": [
    "# treat the outliers"
   ]
  },
  {
   "cell_type": "code",
   "execution_count": 11,
   "id": "5032ae39-796f-42ac-bf7c-dd5810a6fa6d",
   "metadata": {},
   "outputs": [
    {
     "data": {
      "text/plain": [
       "<Axes: >"
      ]
     },
     "execution_count": 11,
     "metadata": {},
     "output_type": "execute_result"
    },
    {
     "data": {
      "image/png": "[encoded data removed]",
      "text/plain": [
       "<Figure size 640x480 with 1 Axes>"
      ]
     },
     "metadata": {},
     "output_type": "display_data"
    }
   ],
   "source": [
    "sns.boxplot(df[[\"Energy Consumption (kWh)\",\"Apparent Power\",\"Offloading Decision\",\"Bandwidth\"]])"
   ]
  },
  {
   "cell_type": "markdown",
   "id": "ae8b6567-34a7-4ba3-a88f-4b547f3c92dc",
   "metadata": {},
   "source": [
    "# data analysis and visualization"
   ]
  },
  {
   "cell_type": "code",
   "execution_count": 13,
   "id": "daa1ed77-deff-49c1-9dc0-8384996dce9b",
   "metadata": {},
   "outputs": [
    {
     "data": {
      "text/html": [
       "<div>\n",
       "<style scoped>\n",
       "    .dataframe tbody tr th:only-of-type {\n",
       "        vertical-align: middle;\n",
       "    }\n",
       "\n",
       "    .dataframe tbody tr th {\n",
       "        vertical-align: top;\n",
       "    }\n",
       "\n",
       "    .dataframe thead th {\n",
       "        text-align: right;\n",
       "    }\n",
       "</style>\n",
       "<table border=\"1\" class=\"dataframe\">\n",
       "  <thead>\n",
       "    <tr style=\"text-align: right;\">\n",
       "      <th></th>\n",
       "      <th>Unix Timestamp</th>\n",
       "      <th>Transaction_ID</th>\n",
       "      <th>Television</th>\n",
       "      <th>Dryer</th>\n",
       "      <th>Oven</th>\n",
       "      <th>Refrigerator</th>\n",
       "      <th>Microwave</th>\n",
       "      <th>Line Voltage</th>\n",
       "      <th>Voltage</th>\n",
       "      <th>Apparent Power</th>\n",
       "      <th>Energy Consumption (kWh)</th>\n",
       "      <th>Offloading Decision</th>\n",
       "      <th>Bandwidth</th>\n",
       "    </tr>\n",
       "  </thead>\n",
       "  <tbody>\n",
       "    <tr>\n",
       "      <th>0</th>\n",
       "      <td>1577836800</td>\n",
       "      <td>1</td>\n",
       "      <td>0</td>\n",
       "      <td>0</td>\n",
       "      <td>0</td>\n",
       "      <td>1</td>\n",
       "      <td>0</td>\n",
       "      <td>237</td>\n",
       "      <td>233</td>\n",
       "      <td>1559</td>\n",
       "      <td>24.001763</td>\n",
       "      <td>0</td>\n",
       "      <td>30741</td>\n",
       "    </tr>\n",
       "    <tr>\n",
       "      <th>1</th>\n",
       "      <td>1577839322</td>\n",
       "      <td>2</td>\n",
       "      <td>0</td>\n",
       "      <td>1</td>\n",
       "      <td>0</td>\n",
       "      <td>0</td>\n",
       "      <td>1</td>\n",
       "      <td>232</td>\n",
       "      <td>230</td>\n",
       "      <td>1970</td>\n",
       "      <td>31.225154</td>\n",
       "      <td>1</td>\n",
       "      <td>35070</td>\n",
       "    </tr>\n",
       "  </tbody>\n",
       "</table>\n",
       "</div>"
      ],
      "text/plain": [
       "   Unix Timestamp  Transaction_ID  Television  Dryer  Oven  Refrigerator  \\\n",
       "0      1577836800               1           0      0     0             1   \n",
       "1      1577839322               2           0      1     0             0   \n",
       "\n",
       "   Microwave  Line Voltage  Voltage  Apparent Power  Energy Consumption (kWh)  \\\n",
       "0          0           237      233            1559                 24.001763   \n",
       "1          1           232      230            1970                 31.225154   \n",
       "\n",
       "   Offloading Decision  Bandwidth  \n",
       "0                    0      30741  \n",
       "1                    1      35070  "
      ]
     },
     "execution_count": 13,
     "metadata": {},
     "output_type": "execute_result"
    }
   ],
   "source": [
    "df.head(2)"
   ]
  },
  {
   "cell_type": "code",
   "execution_count": 15,
   "id": "93eb0918-c9fa-49d8-bc5f-55ca5101d3d5",
   "metadata": {},
   "outputs": [
    {
     "data": {
      "text/html": [
       "<div>\n",
       "<style scoped>\n",
       "    .dataframe tbody tr th:only-of-type {\n",
       "        vertical-align: middle;\n",
       "    }\n",
       "\n",
       "    .dataframe tbody tr th {\n",
       "        vertical-align: top;\n",
       "    }\n",
       "\n",
       "    .dataframe thead th {\n",
       "        text-align: right;\n",
       "    }\n",
       "</style>\n",
       "<table border=\"1\" class=\"dataframe\">\n",
       "  <thead>\n",
       "    <tr style=\"text-align: right;\">\n",
       "      <th></th>\n",
       "      <th>Unix Timestamp</th>\n",
       "      <th>Transaction_ID</th>\n",
       "      <th>Television</th>\n",
       "      <th>Dryer</th>\n",
       "      <th>Oven</th>\n",
       "      <th>Refrigerator</th>\n",
       "      <th>Microwave</th>\n",
       "      <th>Line Voltage</th>\n",
       "      <th>Voltage</th>\n",
       "      <th>Apparent Power</th>\n",
       "      <th>Energy Consumption (kWh)</th>\n",
       "      <th>Offloading Decision</th>\n",
       "      <th>Bandwidth</th>\n",
       "    </tr>\n",
       "  </thead>\n",
       "  <tbody>\n",
       "    <tr>\n",
       "      <th>0</th>\n",
       "      <td>1577836800</td>\n",
       "      <td>1</td>\n",
       "      <td>0</td>\n",
       "      <td>0</td>\n",
       "      <td>0</td>\n",
       "      <td>1</td>\n",
       "      <td>0</td>\n",
       "      <td>237</td>\n",
       "      <td>233</td>\n",
       "      <td>1559</td>\n",
       "      <td>24.001763</td>\n",
       "      <td>0</td>\n",
       "      <td>30741</td>\n",
       "    </tr>\n",
       "    <tr>\n",
       "      <th>1</th>\n",
       "      <td>1577839322</td>\n",
       "      <td>2</td>\n",
       "      <td>0</td>\n",
       "      <td>1</td>\n",
       "      <td>0</td>\n",
       "      <td>0</td>\n",
       "      <td>1</td>\n",
       "      <td>232</td>\n",
       "      <td>230</td>\n",
       "      <td>1970</td>\n",
       "      <td>31.225154</td>\n",
       "      <td>1</td>\n",
       "      <td>35070</td>\n",
       "    </tr>\n",
       "    <tr>\n",
       "      <th>2</th>\n",
       "      <td>1577841845</td>\n",
       "      <td>3</td>\n",
       "      <td>0</td>\n",
       "      <td>1</td>\n",
       "      <td>0</td>\n",
       "      <td>0</td>\n",
       "      <td>0</td>\n",
       "      <td>223</td>\n",
       "      <td>222</td>\n",
       "      <td>1684</td>\n",
       "      <td>70.460700</td>\n",
       "      <td>1</td>\n",
       "      <td>44253</td>\n",
       "    </tr>\n",
       "    <tr>\n",
       "      <th>3</th>\n",
       "      <td>1577844368</td>\n",
       "      <td>4</td>\n",
       "      <td>1</td>\n",
       "      <td>0</td>\n",
       "      <td>1</td>\n",
       "      <td>1</td>\n",
       "      <td>0</td>\n",
       "      <td>225</td>\n",
       "      <td>224</td>\n",
       "      <td>1694</td>\n",
       "      <td>32.264043</td>\n",
       "      <td>1</td>\n",
       "      <td>20911</td>\n",
       "    </tr>\n",
       "    <tr>\n",
       "      <th>4</th>\n",
       "      <td>1577846891</td>\n",
       "      <td>5</td>\n",
       "      <td>1</td>\n",
       "      <td>0</td>\n",
       "      <td>0</td>\n",
       "      <td>1</td>\n",
       "      <td>0</td>\n",
       "      <td>222</td>\n",
       "      <td>214</td>\n",
       "      <td>1889</td>\n",
       "      <td>32.728111</td>\n",
       "      <td>0</td>\n",
       "      <td>1708</td>\n",
       "    </tr>\n",
       "    <tr>\n",
       "      <th>...</th>\n",
       "      <td>...</td>\n",
       "      <td>...</td>\n",
       "      <td>...</td>\n",
       "      <td>...</td>\n",
       "      <td>...</td>\n",
       "      <td>...</td>\n",
       "      <td>...</td>\n",
       "      <td>...</td>\n",
       "      <td>...</td>\n",
       "      <td>...</td>\n",
       "      <td>...</td>\n",
       "      <td>...</td>\n",
       "      <td>...</td>\n",
       "    </tr>\n",
       "    <tr>\n",
       "      <th>48967</th>\n",
       "      <td>1701377135</td>\n",
       "      <td>48968</td>\n",
       "      <td>1</td>\n",
       "      <td>0</td>\n",
       "      <td>1</td>\n",
       "      <td>0</td>\n",
       "      <td>0</td>\n",
       "      <td>234</td>\n",
       "      <td>230</td>\n",
       "      <td>1815</td>\n",
       "      <td>20.161006</td>\n",
       "      <td>1</td>\n",
       "      <td>22742</td>\n",
       "    </tr>\n",
       "    <tr>\n",
       "      <th>48968</th>\n",
       "      <td>1701379658</td>\n",
       "      <td>48969</td>\n",
       "      <td>0</td>\n",
       "      <td>0</td>\n",
       "      <td>1</td>\n",
       "      <td>0</td>\n",
       "      <td>1</td>\n",
       "      <td>238</td>\n",
       "      <td>235</td>\n",
       "      <td>1692</td>\n",
       "      <td>91.965343</td>\n",
       "      <td>0</td>\n",
       "      <td>22466</td>\n",
       "    </tr>\n",
       "    <tr>\n",
       "      <th>48969</th>\n",
       "      <td>1701382181</td>\n",
       "      <td>48970</td>\n",
       "      <td>1</td>\n",
       "      <td>0</td>\n",
       "      <td>0</td>\n",
       "      <td>1</td>\n",
       "      <td>1</td>\n",
       "      <td>235</td>\n",
       "      <td>229</td>\n",
       "      <td>1686</td>\n",
       "      <td>40.224097</td>\n",
       "      <td>0</td>\n",
       "      <td>10004</td>\n",
       "    </tr>\n",
       "    <tr>\n",
       "      <th>48970</th>\n",
       "      <td>1701384704</td>\n",
       "      <td>48971</td>\n",
       "      <td>1</td>\n",
       "      <td>1</td>\n",
       "      <td>1</td>\n",
       "      <td>1</td>\n",
       "      <td>1</td>\n",
       "      <td>237</td>\n",
       "      <td>230</td>\n",
       "      <td>1754</td>\n",
       "      <td>37.366360</td>\n",
       "      <td>0</td>\n",
       "      <td>48012</td>\n",
       "    </tr>\n",
       "    <tr>\n",
       "      <th>48971</th>\n",
       "      <td>1701387227</td>\n",
       "      <td>48972</td>\n",
       "      <td>0</td>\n",
       "      <td>0</td>\n",
       "      <td>0</td>\n",
       "      <td>0</td>\n",
       "      <td>1</td>\n",
       "      <td>220</td>\n",
       "      <td>215</td>\n",
       "      <td>1660</td>\n",
       "      <td>66.239065</td>\n",
       "      <td>0</td>\n",
       "      <td>4712</td>\n",
       "    </tr>\n",
       "  </tbody>\n",
       "</table>\n",
       "<p>48972 rows × 13 columns</p>\n",
       "</div>"
      ],
      "text/plain": [
       "       Unix Timestamp  Transaction_ID  Television  Dryer  Oven  Refrigerator  \\\n",
       "0          1577836800               1           0      0     0             1   \n",
       "1          1577839322               2           0      1     0             0   \n",
       "2          1577841845               3           0      1     0             0   \n",
       "3          1577844368               4           1      0     1             1   \n",
       "4          1577846891               5           1      0     0             1   \n",
       "...               ...             ...         ...    ...   ...           ...   \n",
       "48967      1701377135           48968           1      0     1             0   \n",
       "48968      1701379658           48969           0      0     1             0   \n",
       "48969      1701382181           48970           1      0     0             1   \n",
       "48970      1701384704           48971           1      1     1             1   \n",
       "48971      1701387227           48972           0      0     0             0   \n",
       "\n",
       "       Microwave  Line Voltage  Voltage  Apparent Power  \\\n",
       "0              0           237      233            1559   \n",
       "1              1           232      230            1970   \n",
       "2              0           223      222            1684   \n",
       "3              0           225      224            1694   \n",
       "4              0           222      214            1889   \n",
       "...          ...           ...      ...             ...   \n",
       "48967          0           234      230            1815   \n",
       "48968          1           238      235            1692   \n",
       "48969          1           235      229            1686   \n",
       "48970          1           237      230            1754   \n",
       "48971          1           220      215            1660   \n",
       "\n",
       "       Energy Consumption (kWh)  Offloading Decision  Bandwidth  \n",
       "0                     24.001763                    0      30741  \n",
       "1                     31.225154                    1      35070  \n",
       "2                     70.460700                    1      44253  \n",
       "3                     32.264043                    1      20911  \n",
       "4                     32.728111                    0       1708  \n",
       "...                         ...                  ...        ...  \n",
       "48967                 20.161006                    1      22742  \n",
       "48968                 91.965343                    0      22466  \n",
       "48969                 40.224097                    0      10004  \n",
       "48970                 37.366360                    0      48012  \n",
       "48971                 66.239065                    0       4712  \n",
       "\n",
       "[48972 rows x 13 columns]"
      ]
     },
     "execution_count": 15,
     "metadata": {},
     "output_type": "execute_result"
    }
   ],
   "source": [
    "df"
   ]
  },
  {
   "cell_type": "code",
   "execution_count": null,
   "id": "4c67ae61-950e-4df7-bc0b-7502c2534f35",
   "metadata": {},
   "outputs": [],
   "source": [
    "# q 1 what is the average  energy consumption across all"
   ]
  },
  {
   "cell_type": "code",
   "execution_count": 242,
   "id": "15d8ac42-aa6e-43ae-8606-800a5d9db318",
   "metadata": {},
   "outputs": [
    {
     "data": {
      "text/plain": [
       "55.10126995297966"
      ]
     },
     "execution_count": 242,
     "metadata": {},
     "output_type": "execute_result"
    }
   ],
   "source": [
    "df[\"Energy Consumption (kWh)\"].mean()"
   ]
  },
  {
   "cell_type": "code",
   "execution_count": null,
   "id": "ae94904b-44ce-4166-9aae-2ad9fdda85c9",
   "metadata": {},
   "outputs": [],
   "source": [
    "# question 2 which device used most (by frequency)\n",
    "# ans= television=24655"
   ]
  },
  {
   "cell_type": "code",
   "execution_count": 277,
   "id": "f746ba1e-322a-4a8a-9655-ebbe820f1537",
   "metadata": {},
   "outputs": [
    {
     "data": {
      "text/plain": [
       "Television      24655\n",
       "Dryer           24490\n",
       "Refrigerator    24601\n",
       "Microwave       24542\n",
       "Oven            24583\n",
       "dtype: int64"
      ]
     },
     "execution_count": 277,
     "metadata": {},
     "output_type": "execute_result"
    }
   ],
   "source": [
    "total=df[[\"Television\",\"Dryer\",\"Refrigerator\",\"Microwave\",\"Oven\"]].sum()\n",
    "total"
   ]
  },
  {
   "cell_type": "code",
   "execution_count": 405,
   "id": "e3f73abc-6027-4a4e-ba0b-3b7fc79fb031",
   "metadata": {},
   "outputs": [
    {
     "data": {
      "image/png": "[encoded data removed]",
      "text/plain": [
       "<Figure size 640x480 with 1 Axes>"
      ]
     },
     "metadata": {},
     "output_type": "display_data"
    }
   ],
   "source": [
    "total.plot(kind='bar')\n",
    "plt.title('Total Usage of Each Device')\n",
    "plt.ylabel('Usage Count')\n",
    "plt.xlabel('Devices')\n",
    "plt.xticks(rotation=15)\n",
    "plt.savefig(\"Total Usage of Each Device\")\n",
    "plt.show()\n"
   ]
  },
  {
   "cell_type": "code",
   "execution_count": null,
   "id": "c55e6fc0-1349-4d48-93d6-2f22a4aee478",
   "metadata": {},
   "outputs": [],
   "source": [
    "# q 3 what is the average  energy consumption each type of devices"
   ]
  },
  {
   "cell_type": "code",
   "execution_count": 315,
   "id": "4d272159-bee0-4111-b312-a65533f83d51",
   "metadata": {},
   "outputs": [
    {
     "name": "stdout",
     "output_type": "stream",
     "text": [
      "{'Television': 55.13789495582316, 'Dryer': 55.06501663212863, 'Oven': 55.162551922169385, 'Refrigerator': 55.22102349917767, 'Microwave': 55.280956186982316}\n"
     ]
    }
   ],
   "source": [
    "avg_energy = {}\n",
    "for device in device_columns:\n",
    "    avg = df[df[device] == 1]['Energy Consumption (kWh)'].mean()\n",
    "    avg_energy[device] = avg\n",
    "print(avg_energy)"
   ]
  },
  {
   "cell_type": "code",
   "execution_count": 119,
   "id": "6dbcdc57-8a14-4d30-ab4d-81a4a1b44ad8",
   "metadata": {},
   "outputs": [
    {
     "data": {
      "text/plain": [
       "55.13789495582316"
      ]
     },
     "execution_count": 119,
     "metadata": {},
     "output_type": "execute_result"
    }
   ],
   "source": [
    "df[df['Television'] == 1]['Energy Consumption (kWh)'].mean()"
   ]
  },
  {
   "cell_type": "code",
   "execution_count": 127,
   "id": "b1c758c9-7ead-4193-bff3-0680606f9f30",
   "metadata": {},
   "outputs": [
    {
     "data": {
      "text/plain": [
       "55.06501663212863"
      ]
     },
     "execution_count": 127,
     "metadata": {},
     "output_type": "execute_result"
    }
   ],
   "source": [
    "df[df[\"Dryer\"]==1]['Energy Consumption (kWh)'].mean()"
   ]
  },
  {
   "cell_type": "code",
   "execution_count": 129,
   "id": "e9a04990-4ca0-4149-bf15-4dae59551a8c",
   "metadata": {},
   "outputs": [
    {
     "data": {
      "text/plain": [
       "55.162551922169385"
      ]
     },
     "execution_count": 129,
     "metadata": {},
     "output_type": "execute_result"
    }
   ],
   "source": [
    "df[df[\"Oven\"]==1]['Energy Consumption (kWh)'].mean()"
   ]
  },
  {
   "cell_type": "code",
   "execution_count": 131,
   "id": "35dc235f-d891-4032-96d6-a989cfebf338",
   "metadata": {},
   "outputs": [
    {
     "data": {
      "text/plain": [
       "55.22102349917767"
      ]
     },
     "execution_count": 131,
     "metadata": {},
     "output_type": "execute_result"
    }
   ],
   "source": [
    "df[df[\"\"]==1]['Energy Consumption (kWh)'].mean()"
   ]
  },
  {
   "cell_type": "code",
   "execution_count": 133,
   "id": "db92defa-deba-417d-9916-5124638cf1a9",
   "metadata": {},
   "outputs": [
    {
     "data": {
      "text/plain": [
       "55.280956186982316"
      ]
     },
     "execution_count": 133,
     "metadata": {},
     "output_type": "execute_result"
    }
   ],
   "source": [
    "df[df[\"Microwave\"]==1]['Energy Consumption (kWh)'].mean()"
   ]
  },
  {
   "cell_type": "code",
   "execution_count": 407,
   "id": "ba1cafff-c590-47ee-9168-f8b55d0e3460",
   "metadata": {},
   "outputs": [
    {
     "data": {
      "image/png": "[encoded data removed]",
      "text/plain": [
       "<Figure size 640x480 with 1 Axes>"
      ]
     },
     "metadata": {},
     "output_type": "display_data"
    }
   ],
   "source": [
    "pd.Series(avg_energy).plot(kind='bar', color='green')\n",
    "plt.title('Average Energy Consumption per Device')\n",
    "plt.ylabel('Average Energy (kWh)')\n",
    "plt.xlabel('Devices')\n",
    "plt.xticks(rotation=15)\n",
    "plt.savefig(\"Average Energy Consumption per Device\")\n",
    "plt.show()"
   ]
  },
  {
   "cell_type": "code",
   "execution_count": 421,
   "id": "d36a800b-069a-4fe5-b3ee-b8267155652a",
   "metadata": {},
   "outputs": [
    {
     "name": "stdout",
     "output_type": "stream",
     "text": [
      "{'Television': 1749.2316365848712, 'Dryer': 1750.1506329113924, 'Oven': 1749.8859781149574, 'Refrigerator': 1748.983862444616, 'Microwave': 1750.0119794637765}\n"
     ]
    }
   ],
   "source": [
    "avg_energy = {}\n",
    "for device in device_columns:\n",
    "    avg = df[df[device] == 1][\"Apparent Power\"].mean()\n",
    "    avg_energy[device] = avg\n",
    "print(avg_energy)\n"
   ]
  },
  {
   "cell_type": "code",
   "execution_count": 423,
   "id": "3ee2eff5-681c-4ca9-9255-5342b1abccad",
   "metadata": {},
   "outputs": [
    {
     "data": {
      "image/png": "[encoded data removed]",
      "text/plain": [
       "<Figure size 640x480 with 1 Axes>"
      ]
     },
     "metadata": {},
     "output_type": "display_data"
    }
   ],
   "source": [
    "pd.Series(avg_energy).plot(kind='bar', color='green')\n",
    "plt.title('Average Energy Consumption per Device')\n",
    "plt.ylabel('Average Energy (kWh)')\n",
    "plt.xlabel('Devices')\n",
    "plt.xticks(rotation=15)\n",
    "plt.savefig(\"Average Energy Consumption per Device\")\n",
    "plt.show()"
   ]
  },
  {
   "cell_type": "code",
   "execution_count": null,
   "id": "2a91cf43-6638-4291-b020-c869c45672e4",
   "metadata": {},
   "outputs": [],
   "source": [
    "# question 4 energy consumption distribution"
   ]
  },
  {
   "cell_type": "code",
   "execution_count": 413,
   "id": "e1ae842b-a111-421c-921c-bcdc3aa10a22",
   "metadata": {},
   "outputs": [
    {
     "data": {
      "image/png": "[encoded data removed]",
      "text/plain": [
       "<Figure size 640x480 with 1 Axes>"
      ]
     },
     "metadata": {},
     "output_type": "display_data"
    }
   ],
   "source": [
    "df['Energy Consumption (kWh)'].plot(kind='hist', color='orange', edgecolor='black')\n",
    "plt.title('Energy Consumption Distribution')\n",
    "plt.xlabel('Energy Consumption (kWh)')\n",
    "plt.ylabel('Frequency')\n",
    "plt.savefig(\"Energy Consumption Distribution1\")\n",
    "plt.show()\n"
   ]
  },
  {
   "cell_type": "code",
   "execution_count": null,
   "id": "646d5320-e6e1-41c6-9046-b0321a1c9306",
   "metadata": {},
   "outputs": [],
   "source": [
    "# question 5 correlation b/w the devices"
   ]
  },
  {
   "cell_type": "code",
   "execution_count": 327,
   "id": "da80c521-873d-401f-b19a-8b7c3822e6da",
   "metadata": {},
   "outputs": [
    {
     "data": {
      "text/html": [
       "<div>\n",
       "<style scoped>\n",
       "    .dataframe tbody tr th:only-of-type {\n",
       "        vertical-align: middle;\n",
       "    }\n",
       "\n",
       "    .dataframe tbody tr th {\n",
       "        vertical-align: top;\n",
       "    }\n",
       "\n",
       "    .dataframe thead th {\n",
       "        text-align: right;\n",
       "    }\n",
       "</style>\n",
       "<table border=\"1\" class=\"dataframe\">\n",
       "  <thead>\n",
       "    <tr style=\"text-align: right;\">\n",
       "      <th></th>\n",
       "      <th>Television</th>\n",
       "      <th>Dryer</th>\n",
       "      <th>Oven</th>\n",
       "      <th>Refrigerator</th>\n",
       "      <th>Microwave</th>\n",
       "    </tr>\n",
       "  </thead>\n",
       "  <tbody>\n",
       "    <tr>\n",
       "      <th>Television</th>\n",
       "      <td>1.000000</td>\n",
       "      <td>0.000040</td>\n",
       "      <td>0.005690</td>\n",
       "      <td>-0.006567</td>\n",
       "      <td>-0.005039</td>\n",
       "    </tr>\n",
       "    <tr>\n",
       "      <th>Dryer</th>\n",
       "      <td>0.000040</td>\n",
       "      <td>1.000000</td>\n",
       "      <td>-0.003227</td>\n",
       "      <td>-0.005269</td>\n",
       "      <td>0.000571</td>\n",
       "    </tr>\n",
       "    <tr>\n",
       "      <th>Oven</th>\n",
       "      <td>0.005690</td>\n",
       "      <td>-0.003227</td>\n",
       "      <td>1.000000</td>\n",
       "      <td>0.003820</td>\n",
       "      <td>-0.008381</td>\n",
       "    </tr>\n",
       "    <tr>\n",
       "      <th>Refrigerator</th>\n",
       "      <td>-0.006567</td>\n",
       "      <td>-0.005269</td>\n",
       "      <td>0.003820</td>\n",
       "      <td>1.000000</td>\n",
       "      <td>-0.000787</td>\n",
       "    </tr>\n",
       "    <tr>\n",
       "      <th>Microwave</th>\n",
       "      <td>-0.005039</td>\n",
       "      <td>0.000571</td>\n",
       "      <td>-0.008381</td>\n",
       "      <td>-0.000787</td>\n",
       "      <td>1.000000</td>\n",
       "    </tr>\n",
       "  </tbody>\n",
       "</table>\n",
       "</div>"
      ],
      "text/plain": [
       "              Television     Dryer      Oven  Refrigerator  Microwave\n",
       "Television      1.000000  0.000040  0.005690     -0.006567  -0.005039\n",
       "Dryer           0.000040  1.000000 -0.003227     -0.005269   0.000571\n",
       "Oven            0.005690 -0.003227  1.000000      0.003820  -0.008381\n",
       "Refrigerator   -0.006567 -0.005269  0.003820      1.000000  -0.000787\n",
       "Microwave      -0.005039  0.000571 -0.008381     -0.000787   1.000000"
      ]
     },
     "execution_count": 327,
     "metadata": {},
     "output_type": "execute_result"
    }
   ],
   "source": [
    "device_corr = df[['Television', 'Dryer', 'Oven', 'Refrigerator', 'Microwave']].corr()\n",
    "device_corr"
   ]
  },
  {
   "cell_type": "code",
   "execution_count": 409,
   "id": "413405cc-3039-49de-9b4f-c03f6920bc57",
   "metadata": {},
   "outputs": [
    {
     "data": {
      "image/png": "[encoded data removed]",
      "text/plain": [
       "<Figure size 640x480 with 2 Axes>"
      ]
     },
     "metadata": {},
     "output_type": "display_data"
    }
   ],
   "source": [
    "sns.heatmap(device_corr, annot=True, cmap='coolwarm')\n",
    "plt.title('Device Usage Correlation Heatmap')\n",
    "plt.savefig(\"Device Usage Correlation Heatmap\")\n",
    "plt.show()"
   ]
  },
  {
   "cell_type": "code",
   "execution_count": null,
   "id": "1feb0c99-3ea0-459f-91c1-243b749c5edf",
   "metadata": {},
   "outputs": [],
   "source": [
    "# question 6 Compare average energy consumption when Television is ON vs OFF."
   ]
  },
  {
   "cell_type": "code",
   "execution_count": 401,
   "id": "163fd31e-a987-4ee3-bbf3-f13e544f5485",
   "metadata": {},
   "outputs": [
    {
     "data": {
      "text/plain": [
       "Television\n",
       "0    55.064136\n",
       "1    55.137895\n",
       "Name: Energy Consumption (kWh), dtype: float64"
      ]
     },
     "execution_count": 401,
     "metadata": {},
     "output_type": "execute_result"
    }
   ],
   "source": [
    "df['Television_Status'] = df['Television'].replace({1: 'On', 0: 'Off'})\n",
    "df.groupby(\"Television\")[\"Energy Consumption (kWh)\"].mean()"
   ]
  },
  {
   "cell_type": "code",
   "execution_count": 417,
   "id": "d69623d1-d889-4385-886c-464a804bedd9",
   "metadata": {},
   "outputs": [
    {
     "data": {
      "image/png": "[encoded data removed]",
      "text/plain": [
       "<Figure size 640x480 with 1 Axes>"
      ]
     },
     "metadata": {},
     "output_type": "display_data"
    }
   ],
   "source": [
    "sns.boxplot(x='Television_Status', y='Energy Consumption (kWh)', data=df)\n",
    "plt.title('Energy Consumption: TV ON vs OFF')\n",
    "plt.savefig(\"Energy ConsumptiV ON vs OFF12\")\n",
    "plt.show()"
   ]
  },
  {
   "cell_type": "code",
   "execution_count": 349,
   "id": "b6dfc5ee-2f38-4cb8-94dc-2b70a1b71bd1",
   "metadata": {},
   "outputs": [
    {
     "data": {
      "text/plain": [
       "Television\n",
       "1             50.345095\n",
       "0             49.654905\n",
       "Name: proportion, dtype: float64"
      ]
     },
     "execution_count": 349,
     "metadata": {},
     "output_type": "execute_result"
    }
   ],
   "source": [
    "df[['Television']].value_counts(normalize=True)*100"
   ]
  }
 ],
 "metadata": {
  "kernelspec": {
   "display_name": "Python 3 (ipykernel)",
   "language": "python",
   "name": "python3"
  },
  "language_info": {
   "codemirror_mode": {
    "name": "ipython",
    "version": 3
   },
   "file_extension": ".py",
   "mimetype": "text/x-python",
   "name": "python",
   "nbconvert_exporter": "python",
   "pygments_lexer": "ipython3",
   "version": "3.12.7"
  }
 },
 "nbformat": 4,
 "nbformat_minor": 5
}
